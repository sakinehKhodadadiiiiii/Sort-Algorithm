{
 "cells": [
  {
   "cell_type": "markdown",
   "id": "aba40e19",
   "metadata": {},
   "source": [
    "# Merge Algorithm"
   ]
  },
  {
   "cell_type": "markdown",
   "id": "a4b2d6b4",
   "metadata": {},
   "source": [
    "### Merge function"
   ]
  },
  {
   "cell_type": "code",
   "execution_count": 1,
   "id": "c9efd31c",
   "metadata": {},
   "outputs": [],
   "source": [
    "def Merge(left,right,A):\n",
    "    i=0\n",
    "    j=0\n",
    "    k=0\n",
    "    nl = len(left)\n",
    "    nr = len(right)\n",
    "    while (i<nl) and (j<nr):\n",
    "        if left[i] <= right[j]:\n",
    "            A[k] = left[i]\n",
    "            i += 1\n",
    "            k += 1\n",
    "        else:\n",
    "            A[k] = right[j]\n",
    "            j += 1\n",
    "            k += 1\n",
    "    while i<nl:\n",
    "        A[k] = left[i]\n",
    "        i += 1\n",
    "        k += 1\n",
    "    while j<nr:\n",
    "        A[k] = right[j]\n",
    "        j += 1\n",
    "        k += 1\n",
    "   "
   ]
  },
  {
   "cell_type": "markdown",
   "id": "74aabbd3",
   "metadata": {},
   "source": [
    "### Merge sorting"
   ]
  },
  {
   "cell_type": "code",
   "execution_count": 4,
   "id": "5ea575a0",
   "metadata": {},
   "outputs": [
    {
     "name": "stdout",
     "output_type": "stream",
     "text": [
      "[0, 1, 2, 3, 4, 5, 6, 7, 8, 9]\n"
     ]
    }
   ],
   "source": [
    "def MergeSort(A):\n",
    "    n = len(A)\n",
    "    if n > 1:\n",
    "        mid = round(n/2)\n",
    "        left = A[:mid]\n",
    "        right = A[mid:]\n",
    "        MergeSort(left)\n",
    "        MergeSort(right)\n",
    "        Merge(left,right,A)\n",
    "    return A\n",
    "\n",
    "\n",
    "A = [2,5,4,6,1,9,8,7,0,3]\n",
    "print(MergeSort(A))"
   ]
  },
  {
   "cell_type": "markdown",
   "id": "abbe0b5a",
   "metadata": {},
   "source": [
    "# Quick sort algorithm"
   ]
  },
  {
   "cell_type": "code",
   "execution_count": 35,
   "id": "158037fd",
   "metadata": {},
   "outputs": [],
   "source": [
    "def Partition(A,start,end):\n",
    "    pivot = A[end]\n",
    "    i = start -1\n",
    "    for j in range(start,end):\n",
    "        if (A[j] <= pivot):\n",
    "            i += 1\n",
    "            (A[i],A[j]) = (A[j],A[i])\n",
    "    (A[i + 1],A[end]) = (A[end],A[i + 1])\n",
    "    return i + 1"
   ]
  },
  {
   "cell_type": "code",
   "execution_count": 36,
   "id": "9c0cc2f3",
   "metadata": {},
   "outputs": [
    {
     "name": "stdout",
     "output_type": "stream",
     "text": [
      "[0, 1, 2, 3, 4, 5, 6, 7, 8, 9]\n"
     ]
    }
   ],
   "source": [
    "def QuickSort(A,start,end):\n",
    "    if (start < end):\n",
    "        pi = Partition(A,start,end)\n",
    "        QuickSort(A,start, pi - 1)\n",
    "        QuickSort(A,pi + 1,end)\n",
    "    \n",
    "A = [2,5,4,6,1,9,8,7,0,3]\n",
    "QuickSort(A,0,9)\n",
    "print(A)"
   ]
  },
  {
   "cell_type": "code",
   "execution_count": null,
   "id": "bb998e20",
   "metadata": {},
   "outputs": [],
   "source": []
  },
  {
   "cell_type": "code",
   "execution_count": null,
   "id": "e684408c",
   "metadata": {},
   "outputs": [],
   "source": []
  }
 ],
 "metadata": {
  "kernelspec": {
   "display_name": "Python 3 (ipykernel)",
   "language": "python",
   "name": "python3"
  },
  "language_info": {
   "codemirror_mode": {
    "name": "ipython",
    "version": 3
   },
   "file_extension": ".py",
   "mimetype": "text/x-python",
   "name": "python",
   "nbconvert_exporter": "python",
   "pygments_lexer": "ipython3",
   "version": "3.9.7"
  }
 },
 "nbformat": 4,
 "nbformat_minor": 5
}
